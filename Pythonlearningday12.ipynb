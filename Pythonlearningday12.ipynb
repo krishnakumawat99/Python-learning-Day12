{
  "nbformat": 4,
  "nbformat_minor": 0,
  "metadata": {
    "colab": {
      "provenance": []
    },
    "kernelspec": {
      "name": "python3",
      "display_name": "Python 3"
    },
    "language_info": {
      "name": "python"
    }
  },
  "cells": [
    {
      "cell_type": "code",
      "execution_count": 5,
      "metadata": {
        "colab": {
          "base_uri": "https://localhost:8080/"
        },
        "id": "0SgL7MBHBz7K",
        "outputId": "b790b033-f2dc-44ec-ab75-977821ef7aa1"
      },
      "outputs": [
        {
          "output_type": "stream",
          "name": "stdout",
          "text": [
            "123\n",
            "89\n"
          ]
        }
      ],
      "source": [
        "maxi=0\n",
        "maxi2=0\n",
        "data=[10,45,67,89,123]\n",
        "for i in range(0,len(data)):\n",
        "  if(data[i]>maxi):\n",
        "    maxi2=maxi\n",
        "    maxi=data[i]\n",
        "  elif(data[i]>maxi2):\n",
        "    maxi2=data[i]\n",
        "\n",
        "print(maxi)\n",
        "print(maxi2)"
      ]
    },
    {
      "cell_type": "code",
      "source": [
        "# find duplicat element\n",
        "data=[10,20,30,40,10]\n",
        "for i in range(0,len(data)):\n",
        "\n",
        "  for j in range(i+1,len(data)):\n",
        "    if(data[i]==data[j]):\n",
        "      print(\"duplicate element \",data[i])"
      ],
      "metadata": {
        "colab": {
          "base_uri": "https://localhost:8080/"
        },
        "id": "r19ZO2hAGHAb",
        "outputId": "00cc2835-c099-4422-a9ea-eef9302c4892"
      },
      "execution_count": 17,
      "outputs": [
        {
          "output_type": "stream",
          "name": "stdout",
          "text": [
            "duplicate element  10\n"
          ]
        }
      ]
    },
    {
      "cell_type": "code",
      "source": [
        "# combination target=60\n",
        "data = [10, 20, 30, 40, 10]\n",
        "target = 60\n",
        "\n",
        "for i in range(0,len(data)):\n",
        "\n",
        "    for j in range(i + 1, len(data)):\n",
        "        if data[i] + data[j] == target:\n",
        "            print(\"combination\", data[i], data[j])\n"
      ],
      "metadata": {
        "colab": {
          "base_uri": "https://localhost:8080/"
        },
        "id": "fzbwYeTOI6VE",
        "outputId": "00779ce4-df33-4daa-9387-b08c0961136b"
      },
      "execution_count": 20,
      "outputs": [
        {
          "output_type": "stream",
          "name": "stdout",
          "text": [
            "combination 20 40\n"
          ]
        }
      ]
    },
    {
      "cell_type": "code",
      "source": [
        "# list\n",
        "# append, extend, pop, sort"
      ],
      "metadata": {
        "id": "ny4oY2NEMEjx"
      },
      "execution_count": 21,
      "outputs": []
    },
    {
      "cell_type": "code",
      "source": [
        "# Tuple\n",
        "# datatype,collect\n",
        "# immutable\n",
        "# index position\n"
      ],
      "metadata": {
        "id": "P_OP_zfPNEr7"
      },
      "execution_count": null,
      "outputs": []
    },
    {
      "cell_type": "code",
      "source": [
        "x=10,201,2,3\n",
        "print(type(x))"
      ],
      "metadata": {
        "colab": {
          "base_uri": "https://localhost:8080/"
        },
        "id": "fhxLuqJ-NZkE",
        "outputId": "f71a90e1-081a-4e09-87c1-64b797354321"
      },
      "execution_count": 23,
      "outputs": [
        {
          "output_type": "stream",
          "name": "stdout",
          "text": [
            "<class 'tuple'>\n"
          ]
        }
      ]
    },
    {
      "cell_type": "code",
      "source": [
        "mytuple=(10,20,\"hey\")\n",
        "print(mytuple)"
      ],
      "metadata": {
        "colab": {
          "base_uri": "https://localhost:8080/"
        },
        "id": "KHwsryosNfVb",
        "outputId": "843c9277-af2f-4ad6-e850-cc61f98b769a"
      },
      "execution_count": 25,
      "outputs": [
        {
          "output_type": "stream",
          "name": "stdout",
          "text": [
            "(10, 20, 'hey')\n"
          ]
        }
      ]
    },
    {
      "cell_type": "code",
      "source": [
        "mytuple=(10,20,\"hey\")\n",
        " # mytuple[0]=123123"
      ],
      "metadata": {
        "id": "nNxC3f-nOYzY"
      },
      "execution_count": 27,
      "outputs": []
    },
    {
      "cell_type": "code",
      "source": [
        "# Dictionary\n",
        "# key-value\n",
        "# key => unique\n",
        "# value => unique or duplicate\n",
        "\n",
        "#{ key:value}\n",
        "#{89009:[\"name\",+95623]}\n",
        "# [10111,61234,5675,86896,75975]\n",
        "# [\"a\",\"b\",\"c\",\"d\",\"e\"]\n",
        "# [8345,73549,05389,56437,643345]"
      ],
      "metadata": {
        "id": "2VEyh2LhPBQW"
      },
      "execution_count": null,
      "outputs": []
    },
    {
      "cell_type": "code",
      "source": [
        "aadharDetails={101:\"krishna\", 102:\"tushar\", 103:\"tushar\"}"
      ],
      "metadata": {
        "id": "BynEC-RyQ_Bd"
      },
      "execution_count": 29,
      "outputs": []
    },
    {
      "cell_type": "code",
      "source": [
        "aadharDetails[101]"
      ],
      "metadata": {
        "colab": {
          "base_uri": "https://localhost:8080/",
          "height": 36
        },
        "id": "DWeTQTW1RRfX",
        "outputId": "0f8e3869-fb6d-4342-9876-f072a929e05e"
      },
      "execution_count": 30,
      "outputs": [
        {
          "output_type": "execute_result",
          "data": {
            "text/plain": [
              "'krishna'"
            ],
            "application/vnd.google.colaboratory.intrinsic+json": {
              "type": "string"
            }
          },
          "metadata": {},
          "execution_count": 30
        }
      ]
    },
    {
      "cell_type": "code",
      "source": [
        "aadharDetails={101:\"krishna\", 102:\"tushar\", 103:\"tushar\"}\n",
        "aadharDetails[103]=\"harshit\"\n",
        "aadharDetails"
      ],
      "metadata": {
        "colab": {
          "base_uri": "https://localhost:8080/"
        },
        "id": "ThmC4xgWRZqJ",
        "outputId": "ca33f527-8656-40b8-d863-b1cfc046cab8"
      },
      "execution_count": 31,
      "outputs": [
        {
          "output_type": "execute_result",
          "data": {
            "text/plain": [
              "{101: 'krishna', 102: 'tushar', 103: 'harshit'}"
            ]
          },
          "metadata": {},
          "execution_count": 31
        }
      ]
    },
    {
      "cell_type": "code",
      "source": [
        "aadharDetails={101:\"krishna\", 102:\"tushar\", 103:\"tushar\"}\n",
        "aadharDetails[103]=\"harshit\" #update\n",
        "aadharDetails[11234]=\"shyam\" #insert\n",
        "aadharDetails"
      ],
      "metadata": {
        "colab": {
          "base_uri": "https://localhost:8080/"
        },
        "id": "N32dbGZMR-_M",
        "outputId": "86b7d0ab-e7f1-45d9-fde0-71c6c021532a"
      },
      "execution_count": 32,
      "outputs": [
        {
          "output_type": "execute_result",
          "data": {
            "text/plain": [
              "{101: 'krishna', 102: 'tushar', 103: 'harshit', 11234: 'shyam'}"
            ]
          },
          "metadata": {},
          "execution_count": 32
        }
      ]
    },
    {
      "cell_type": "code",
      "source": [
        "marks={1:10,2:85,3:31,4:56}\n",
        "marks[3]=marks[3]+5  # => 31+5=36  marks[3]+=5\n",
        "print(marks)"
      ],
      "metadata": {
        "colab": {
          "base_uri": "https://localhost:8080/"
        },
        "id": "rS9ISFCySJTf",
        "outputId": "d1273c3f-b337-470e-8b8e-bab0dad03d38"
      },
      "execution_count": 36,
      "outputs": [
        {
          "output_type": "stream",
          "name": "stdout",
          "text": [
            "{1: 10, 2: 85, 3: 36, 4: 56}\n"
          ]
        }
      ]
    },
    {
      "cell_type": "code",
      "source": [
        "mycount={1:0}\n",
        "for i in range(56, 98):\n",
        "    mycount[1]=mycount[1]+1\n",
        "print(mycount)"
      ],
      "metadata": {
        "colab": {
          "base_uri": "https://localhost:8080/"
        },
        "id": "CITzcl0MSoIj",
        "outputId": "fe3a682e-15ca-4a37-842a-8954dc0c377c"
      },
      "execution_count": 43,
      "outputs": [
        {
          "output_type": "stream",
          "name": "stdout",
          "text": [
            "{1: 42}\n"
          ]
        }
      ]
    },
    {
      "cell_type": "code",
      "source": [
        "mychar={\"total\":0}\n",
        "data=\"rhytam bde\"\n",
        "for i in range(0,len(data)):\n",
        "    mychar[\"total\"]=mychar[\"total\"]+1\n",
        "print(mychar)"
      ],
      "metadata": {
        "colab": {
          "base_uri": "https://localhost:8080/"
        },
        "id": "Sjp3r75LUHb2",
        "outputId": "a584bd86-7a48-483a-d386-07ba112bc2be"
      },
      "execution_count": 44,
      "outputs": [
        {
          "output_type": "stream",
          "name": "stdout",
          "text": [
            "{'total': 10}\n"
          ]
        }
      ]
    },
    {
      "cell_type": "code",
      "source": [
        "# learning assignment\n",
        "# 1.List comphrehnsion\n",
        "# 2.zip vs enumerate function"
      ],
      "metadata": {
        "id": "bWtPzym7WjDa"
      },
      "execution_count": null,
      "outputs": []
    }
  ]
}